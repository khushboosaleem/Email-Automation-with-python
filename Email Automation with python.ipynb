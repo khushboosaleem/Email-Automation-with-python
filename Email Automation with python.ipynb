{
 "cells": [
  {
   "cell_type": "markdown",
   "id": "60f7d24e-5688-442e-9740-ade223c5502e",
   "metadata": {},
   "source": [
    "\r\n",
    "## Objective\r\n",
    "The goal of this project is to automate the process of sending emails using Python. This involves setting up a script that connects to an SMTP server, authenticates with the user's credentials, and sends an email to one or more recipientsn successful delivery.\r\n"
   ]
  },
  {
   "cell_type": "code",
   "execution_count": 1,
   "id": "28b1e5d8-f0b0-4c89-9091-4d64ce355e20",
   "metadata": {},
   "outputs": [],
   "source": [
    "# Import simple mail transfer protocol\n",
    "import smtplib\n",
    "# Import datatime library\n",
    "import datetime"
   ]
  },
  {
   "cell_type": "code",
   "execution_count": 2,
   "id": "87fec83f-adf6-4989-b355-327082c493ec",
   "metadata": {},
   "outputs": [],
   "source": [
    "my_email = 'khushboosaleem25@gmail.com'"
   ]
  },
  {
   "cell_type": "code",
   "execution_count": 3,
   "id": "9973fe3b-e20c-446f-8cd8-598b847d635c",
   "metadata": {},
   "outputs": [],
   "source": [
    "receiver = 'rabiaashamshad@gmail.com'\n",
    "cc_email = 'risingeasy@gmail.com'\n",
    "bcc_email = 'pakcheep85@gmail.com'"
   ]
  },
  {
   "cell_type": "code",
   "execution_count": 4,
   "id": "59d93388-3f7e-4390-ad59-3b2c2b5054b8",
   "metadata": {},
   "outputs": [
    {
     "data": {
      "text/plain": [
       "datetime.date(2024, 8, 9)"
      ]
     },
     "execution_count": 4,
     "metadata": {},
     "output_type": "execute_result"
    }
   ],
   "source": [
    "today = datetime.date.today()\n",
    "today"
   ]
  },
  {
   "cell_type": "code",
   "execution_count": 5,
   "id": "5d0ca5fb-b1a1-48cf-a895-d392c2dbb65e",
   "metadata": {},
   "outputs": [
    {
     "data": {
      "text/plain": [
       "'Meeting for 2024-08-09 is cancelled'"
      ]
     },
     "execution_count": 5,
     "metadata": {},
     "output_type": "execute_result"
    }
   ],
   "source": [
    "subject = f'Meeting for {str(today)} is cancelled'\n",
    "subject"
   ]
  },
  {
   "cell_type": "code",
   "execution_count": 6,
   "id": "e7f437e1-b85a-4bf9-8e1a-59a640c4d06d",
   "metadata": {},
   "outputs": [],
   "source": [
    "message = f\"\"\"Hello everyone, this is to inform you all that due to some reason meeting for {today} is cancelled. All of you are advised to complete your tasks accordingly.\"\"\""
   ]
  },
  {
   "cell_type": "code",
   "execution_count": 7,
   "id": "29697e7b-066a-49ae-9e86-0af365ba5b2e",
   "metadata": {},
   "outputs": [
    {
     "name": "stdout",
     "output_type": "stream",
     "text": [
      "Hello everyone, this is to inform you all that due to some reason meeting for 2024-08-09 is cancelled. All of you are advised to complete your tasks accordingly.\n"
     ]
    }
   ],
   "source": [
    "print(message)"
   ]
  },
  {
   "cell_type": "code",
   "execution_count": 8,
   "id": "cc46766d-56a9-402a-a180-80688e4e21b7",
   "metadata": {},
   "outputs": [
    {
     "name": "stdout",
     "output_type": "stream",
     "text": [
      "subject: Meeting for 2024-08-09 is cancelled\n",
      "\n",
      "Hello everyone, this is to inform you all that due to some reason meeting for 2024-08-09 is cancelled. All of you are advised to complete your tasks accordingly.\n"
     ]
    }
   ],
   "source": [
    "text =  f'subject: {subject}\\n\\n{message}'\n",
    "print(text)"
   ]
  },
  {
   "cell_type": "code",
   "execution_count": 9,
   "id": "042635b9-c425-4d89-a2b9-612a95918366",
   "metadata": {},
   "outputs": [],
   "source": [
    "# Initialize the SMTP server connection with Gmail's SMTP server and port 587\n",
    "server = smtplib.SMTP(host='smtp.gmail.com',port=587)"
   ]
  },
  {
   "cell_type": "code",
   "execution_count": 10,
   "id": "24449ff8-5f90-40ac-a191-da3f17330c79",
   "metadata": {},
   "outputs": [
    {
     "data": {
      "text/plain": [
       "(220, b'2.0.0 Ready to start TLS')"
      ]
     },
     "execution_count": 10,
     "metadata": {},
     "output_type": "execute_result"
    }
   ],
   "source": [
    "# Start Transport Layer Security (TLS) for secure communication\n",
    "server.starttls() "
   ]
  },
  {
   "cell_type": "code",
   "execution_count": 11,
   "id": "7af87801-89f4-4187-8884-d19c7fbad1ee",
   "metadata": {},
   "outputs": [
    {
     "data": {
      "text/plain": [
       "(235, b'2.7.0 Accepted')"
      ]
     },
     "execution_count": 11,
     "metadata": {},
     "output_type": "execute_result"
    }
   ],
   "source": [
    "# Log in to the SMTP server using the provided email and app-specific password\n",
    "server.login(my_email,password='ioyu qafd yrpp epes')"
   ]
  },
  {
   "cell_type": "code",
   "execution_count": 12,
   "id": "a025bd5c-54fa-4f85-ace0-cbe8d5d41a79",
   "metadata": {},
   "outputs": [
    {
     "data": {
      "text/plain": [
       "['rabiaashamshad@gmail.com', 'risingeasy@gmail.com', 'pakcheep85@gmail.com']"
      ]
     },
     "execution_count": 12,
     "metadata": {},
     "output_type": "execute_result"
    }
   ],
   "source": [
    "recipient = [receiver,cc_email ,bcc_email]\n",
    "recipient"
   ]
  },
  {
   "cell_type": "code",
   "execution_count": 13,
   "id": "3d5b0c92-33b8-4071-8a9d-3ff885d41c12",
   "metadata": {},
   "outputs": [
    {
     "data": {
      "text/plain": [
       "{}"
      ]
     },
     "execution_count": 13,
     "metadata": {},
     "output_type": "execute_result"
    }
   ],
   "source": [
    "# Send an email from the sender's email to the recipient with the provided message content\n",
    "server.sendmail(my_email,recipient,text)"
   ]
  },
  {
   "cell_type": "code",
   "execution_count": 14,
   "id": "d062897c-c5f9-4eba-86f7-dae7b0312c57",
   "metadata": {},
   "outputs": [
    {
     "name": "stdout",
     "output_type": "stream",
     "text": [
      "mail has been successfully sent to:\n",
      "1: rabiaashamshad@gmail.com\n",
      "2: risingeasy@gmail.com\n",
      "3: pakcheep85@gmail.com\n"
     ]
    }
   ],
   "source": [
    "# Print a confirmation message indicating that the email has been successfully sent\n",
    "print('Mail has been successfully sent to:')\n",
    "\n",
    "# Loop through the list of recipients and print each one with its corresponding serial number\n",
    "for sr, email in enumerate(recipient, start=1):\n",
    "    print(f'{sr}: {email}')"
   ]
  },
  {
   "cell_type": "markdown",
   "id": "f1040952-80e3-4109-97d5-12bc04b0119d",
   "metadata": {},
   "source": [
    "# Project Summary: Email Automation\n",
    "\n",
    "## Key Components\n",
    "\n",
    "### SMTP Server Connection\n",
    "- Establish a connection to an SMTP server (e.g., Gmail) using the `smtplib` library.\n",
    "- Configure the server to use Transport Layer Security (TLS) to ensure secure communication.\n",
    "\n",
    "### Email Authentication\n",
    "- Log in to the SMTP server with the user's email address and an application-specific password.\n",
    "\n",
    "### Email Composition and Sending\n",
    "- Define the email content, including the sender, recipient(s), and message body.\n",
    "- Use the `sendmail` method to dispatch the email to the specified recipients.\n",
    "\n",
    "### Confirmation and Reporting\n",
    "- Print a confirmation message indicating that the email has been successfully sent.\n",
    "- List the recipients with their corresponding serial numbers for easy verification.\n",
    "\n",
    "## Outcome\n",
    "The project results in a functional email automation script that simplifies and speeds up the process of sending emails to multiple recipients, ensuring secure transmission and providing feedback on successful delivery.\n"
   ]
  }
 ],
 "metadata": {
  "kernelspec": {
   "display_name": "Python 3 (ipykernel)",
   "language": "python",
   "name": "python3"
  },
  "language_info": {
   "codemirror_mode": {
    "name": "ipython",
    "version": 3
   },
   "file_extension": ".py",
   "mimetype": "text/x-python",
   "name": "python",
   "nbconvert_exporter": "python",
   "pygments_lexer": "ipython3",
   "version": "3.12.4"
  }
 },
 "nbformat": 4,
 "nbformat_minor": 5
}
